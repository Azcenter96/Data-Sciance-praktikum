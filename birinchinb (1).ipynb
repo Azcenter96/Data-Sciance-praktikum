{
  "nbformat": 4,
  "nbformat_minor": 0,
  "metadata": {
    "colab": {
      "provenance": [],
      "collapsed_sections": []
    },
    "kernelspec": {
      "name": "python3",
      "display_name": "Python 3"
    },
    "language_info": {
      "name": "python"
    }
  },
  "cells": [
    {
      "cell_type": "code",
      "execution_count": 4,
      "metadata": {
        "id": "nEPlHXoCp_mn"
      },
      "outputs": [],
      "source": [
        "# kutubxonalarni chaqirib olish\n",
        "import numpy as np\n",
        "import pandas as pd\n",
        "import torch\n",
        "import tensorflow as tf\n",
        "import sklearn"
      ]
    },
    {
      "cell_type": "code",
      "source": [
        "# kutubxonalar versiyalarini tekshirish\n",
        "print(np.__version__)\n",
        "print(pd.__version__)\n",
        "print(torch.__version__)\n",
        "print(tf.__version__)\n",
        "print(sklearn.__version__)"
      ],
      "metadata": {
        "colab": {
          "base_uri": "https://localhost:8080/"
        },
        "id": "JSz2ldU45hsZ",
        "outputId": "d89c8187-5a06-42cf-8304-760368d2b452"
      },
      "execution_count": 7,
      "outputs": [
        {
          "output_type": "stream",
          "name": "stdout",
          "text": [
            "1.21.6\n",
            "1.3.5\n",
            "1.12.1+cu113\n",
            "2.9.2\n",
            "1.0.2\n"
          ]
        }
      ]
    }
  ]
}