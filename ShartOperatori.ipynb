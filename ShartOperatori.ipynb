{
  "nbformat": 4,
  "nbformat_minor": 0,
  "metadata": {
    "colab": {
      "provenance": [],
      "collapsed_sections": []
    },
    "kernelspec": {
      "name": "python3",
      "display_name": "Python 3"
    },
    "language_info": {
      "name": "python"
    }
  },
  "cells": [
    {
      "cell_type": "code",
      "execution_count": 1,
      "metadata": {
        "id": "jm96OHQiY0Jx"
      },
      "outputs": [],
      "source": [
        "import numpy as np"
      ]
    },
    {
      "cell_type": "code",
      "source": [
        "number = np.random.randn(4, 4)"
      ],
      "metadata": {
        "id": "C50vxUMfY5sT"
      },
      "execution_count": 2,
      "outputs": []
    },
    {
      "cell_type": "markdown",
      "source": [
        "Mantiqiy shart operatori"
      ],
      "metadata": {
        "id": "rngGoMcnY70E"
      }
    },
    {
      "cell_type": "code",
      "source": [
        "#where\n",
        "cond = np.where(number<0, 10, 30)\n",
        "cond\n"
      ],
      "metadata": {
        "colab": {
          "base_uri": "https://localhost:8080/"
        },
        "id": "T8XQVyYxZAjJ",
        "outputId": "59480ec3-edfd-4b5d-e79b-2df502c4fbc7"
      },
      "execution_count": 3,
      "outputs": [
        {
          "output_type": "execute_result",
          "data": {
            "text/plain": [
              "array([[10, 30, 30, 10],\n",
              "       [30, 30, 10, 10],\n",
              "       [30, 30, 10, 10],\n",
              "       [30, 10, 10, 10]])"
            ]
          },
          "metadata": {},
          "execution_count": 3
        }
      ]
    },
    {
      "cell_type": "code",
      "source": [
        "number"
      ],
      "metadata": {
        "colab": {
          "base_uri": "https://localhost:8080/"
        },
        "id": "t6TVlxYvtHwY",
        "outputId": "b165d724-c969-4a22-e8a5-31f60707b5d0"
      },
      "execution_count": 4,
      "outputs": [
        {
          "output_type": "execute_result",
          "data": {
            "text/plain": [
              "array([[-0.31653532,  0.82618064,  2.13783883, -0.45612969],\n",
              "       [ 0.32377004,  0.45668323, -0.11089685, -0.3792    ],\n",
              "       [ 0.31130048,  1.02887065, -1.84070781, -1.04391198],\n",
              "       [ 1.87271977, -0.27590879, -0.43765623, -0.72042197]])"
            ]
          },
          "metadata": {},
          "execution_count": 4
        }
      ]
    },
    {
      "cell_type": "code",
      "source": [
        "booleans = [True, False, True, False]\n",
        "np.where(booleans, number, 0)"
      ],
      "metadata": {
        "colab": {
          "base_uri": "https://localhost:8080/"
        },
        "id": "aW14x9E3tNpL",
        "outputId": "7ea0b5e6-4a4e-4b9a-b84d-f3fa7a6e8179"
      },
      "execution_count": 5,
      "outputs": [
        {
          "output_type": "execute_result",
          "data": {
            "text/plain": [
              "array([[-0.31653532,  0.        ,  2.13783883,  0.        ],\n",
              "       [ 0.32377004,  0.        , -0.11089685,  0.        ],\n",
              "       [ 0.31130048,  0.        , -1.84070781,  0.        ],\n",
              "       [ 1.87271977,  0.        , -0.43765623,  0.        ]])"
            ]
          },
          "metadata": {},
          "execution_count": 5
        }
      ]
    }
  ]
}