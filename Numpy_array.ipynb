{
  "nbformat": 4,
  "nbformat_minor": 0,
  "metadata": {
    "colab": {
      "provenance": [],
      "collapsed_sections": []
    },
    "kernelspec": {
      "name": "python3",
      "display_name": "Python 3"
    },
    "language_info": {
      "name": "python"
    }
  },
  "cells": [
    {
      "cell_type": "code",
      "execution_count": 2,
      "metadata": {
        "id": "0yQW3swwEboo"
      },
      "outputs": [],
      "source": [
        "import numpy as np"
      ]
    },
    {
      "cell_type": "code",
      "source": [
        "list1 = [1, 3, 55, 6, 7, 2, 5]\n",
        "arr1 = np.array(list1)  #listni arrayga o`tkazyapmiz"
      ],
      "metadata": {
        "id": "2MeKSAknEnt5"
      },
      "execution_count": 11,
      "outputs": []
    },
    {
      "cell_type": "code",
      "source": [
        "tuple1 = (3, 6, 1, 32, 65, 86, 86)\n",
        "arr2 = np.array(tuple1) #tupleni arrayga o`tkazyapmiz"
      ],
      "metadata": {
        "id": "XtxZ8gVDE-O3"
      },
      "execution_count": 12,
      "outputs": []
    },
    {
      "cell_type": "code",
      "source": [
        "#arraylarning o`lchamlarini tekshirib ko`ramiz\n",
        "#o`lchamini .ndim funksiyasi orqali tekshiramiz\n",
        "print(arr1.ndim)\n",
        "print(arr2.ndim)"
      ],
      "metadata": {
        "colab": {
          "base_uri": "https://localhost:8080/"
        },
        "id": "QiPN5kCDFKtK",
        "outputId": "8bc8563c-2888-48cf-fa1a-d40af911ba5b"
      },
      "execution_count": 14,
      "outputs": [
        {
          "output_type": "stream",
          "name": "stdout",
          "text": [
            "1\n",
            "1\n"
          ]
        }
      ]
    },
    {
      "cell_type": "code",
      "source": [
        "two_list = ([3, 5, 2, 8, 1], [9, 34, 2, 1, 6])\n",
        "arr3 = np.array(two_list)\n",
        "print(arr3.ndim)"
      ],
      "metadata": {
        "colab": {
          "base_uri": "https://localhost:8080/"
        },
        "id": "pd2VOY8VF4Sl",
        "outputId": "14fb5618-8c85-445f-a0d2-7170c78c476d"
      },
      "execution_count": 18,
      "outputs": [
        {
          "output_type": "stream",
          "name": "stdout",
          "text": [
            "2\n"
          ]
        }
      ]
    },
    {
      "cell_type": "code",
      "source": [
        "arr3.shape # qatorlar va ustunlar soni(q, u)"
      ],
      "metadata": {
        "colab": {
          "base_uri": "https://localhost:8080/"
        },
        "id": "mlTyvqDOHOvA",
        "outputId": "907e829c-4a8e-43d8-ca90-4f9937529dea"
      },
      "execution_count": 19,
      "outputs": [
        {
          "output_type": "execute_result",
          "data": {
            "text/plain": [
              "(2, 5)"
            ]
          },
          "metadata": {},
          "execution_count": 19
        }
      ]
    },
    {
      "cell_type": "code",
      "source": [
        "arr3.size # arraydagi elementlar soni"
      ],
      "metadata": {
        "colab": {
          "base_uri": "https://localhost:8080/"
        },
        "id": "P5Ry9s-DHacV",
        "outputId": "ac193d78-f8fd-430c-abb2-1d0c754f764e"
      },
      "execution_count": 21,
      "outputs": [
        {
          "output_type": "execute_result",
          "data": {
            "text/plain": [
              "10"
            ]
          },
          "metadata": {},
          "execution_count": 21
        }
      ]
    },
    {
      "cell_type": "code",
      "source": [
        "arr4 = np.zeros((3, 4)) # faqat 0 dan iborat array yaratish\n",
        "print(arr4)"
      ],
      "metadata": {
        "colab": {
          "base_uri": "https://localhost:8080/"
        },
        "id": "BQllDMz9Hg5U",
        "outputId": "096af1fe-5e92-41d6-816f-411fff4c66f7"
      },
      "execution_count": 23,
      "outputs": [
        {
          "output_type": "stream",
          "name": "stdout",
          "text": [
            "[[0. 0. 0. 0.]\n",
            " [0. 0. 0. 0.]\n",
            " [0. 0. 0. 0.]]\n"
          ]
        }
      ]
    },
    {
      "cell_type": "code",
      "source": [
        "arr5 = np.ones((3, 4)) # faqar 1 dan iborat array yaratish\n",
        "print(arr5)"
      ],
      "metadata": {
        "colab": {
          "base_uri": "https://localhost:8080/"
        },
        "id": "2OFr5j4OI9JS",
        "outputId": "1324542b-c3b9-4429-9987-ccbf23673cb6"
      },
      "execution_count": 24,
      "outputs": [
        {
          "output_type": "stream",
          "name": "stdout",
          "text": [
            "[[1. 1. 1. 1.]\n",
            " [1. 1. 1. 1.]\n",
            " [1. 1. 1. 1.]]\n"
          ]
        }
      ]
    },
    {
      "cell_type": "code",
      "source": [
        "arr6 = np.arange(1, 15, 2) # arange funksiyasi 1, dan 15 oraligidagi sonlarni 2 qadam bilan array yaratish\n",
        "print(arr6)"
      ],
      "metadata": {
        "colab": {
          "base_uri": "https://localhost:8080/"
        },
        "id": "tRNvMjspJhCw",
        "outputId": "a31fe7b9-83b2-445d-e6c8-ae7c91cf2f9e"
      },
      "execution_count": 25,
      "outputs": [
        {
          "output_type": "stream",
          "name": "stdout",
          "text": [
            "[ 1  3  5  7  9 11 13]\n"
          ]
        }
      ]
    },
    {
      "cell_type": "code",
      "source": [],
      "metadata": {
        "id": "gXKJq6znKfjl"
      },
      "execution_count": null,
      "outputs": []
    }
  ]
}