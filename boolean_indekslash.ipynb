{
  "nbformat": 4,
  "nbformat_minor": 0,
  "metadata": {
    "colab": {
      "provenance": [],
      "collapsed_sections": []
    },
    "kernelspec": {
      "name": "python3",
      "display_name": "Python 3"
    },
    "language_info": {
      "name": "python"
    }
  },
  "cells": [
    {
      "cell_type": "code",
      "execution_count": 1,
      "metadata": {
        "id": "FhfFpxKYRryi"
      },
      "outputs": [],
      "source": [
        "import numpy as np"
      ]
    },
    {
      "cell_type": "code",
      "source": [
        "names = np.array(['Hasan', 'Husan', 'Mirzabek', 'Elyor', 'Hasan', 'Javohir', 'Elyor'])\n",
        "names"
      ],
      "metadata": {
        "colab": {
          "base_uri": "https://localhost:8080/"
        },
        "id": "L2ZCrp1kRwH3",
        "outputId": "b29f0b4b-ac92-456f-e71f-680b7c6f5e05"
      },
      "execution_count": 3,
      "outputs": [
        {
          "output_type": "execute_result",
          "data": {
            "text/plain": [
              "array(['Hasan', 'Husan', 'Mirzabek', 'Elyor', 'Hasan', 'Javohir', 'Elyor'],\n",
              "      dtype='<U8')"
            ]
          },
          "metadata": {},
          "execution_count": 3
        }
      ]
    },
    {
      "cell_type": "code",
      "source": [
        "data = np.random.randn(7, 4)\n",
        "data"
      ],
      "metadata": {
        "colab": {
          "base_uri": "https://localhost:8080/"
        },
        "id": "4H4rskD9Ry-t",
        "outputId": "e902c31d-61be-435a-a6e0-4552e617fa10"
      },
      "execution_count": 5,
      "outputs": [
        {
          "output_type": "execute_result",
          "data": {
            "text/plain": [
              "array([[ 0.15681838, -0.36782417,  0.09474427, -0.13408739],\n",
              "       [ 0.62756211, -0.0048783 ,  1.65985513,  0.08731625],\n",
              "       [ 0.07688918, -1.32467422, -0.23178167, -0.02319271],\n",
              "       [ 0.632871  , -0.6483917 ,  0.92984244, -2.85619274],\n",
              "       [-0.00908062,  0.20208639, -0.01026422,  1.02360458],\n",
              "       [ 0.52287401, -0.75676249,  2.00997238, -0.2449475 ],\n",
              "       [-1.29562986,  0.32078675,  1.10612366,  0.3697646 ]])"
            ]
          },
          "metadata": {},
          "execution_count": 5
        }
      ]
    },
    {
      "cell_type": "code",
      "source": [
        "names == 'Hasan'"
      ],
      "metadata": {
        "colab": {
          "base_uri": "https://localhost:8080/"
        },
        "id": "yGbULBBNSDkR",
        "outputId": "fb43165e-96dd-4a60-c696-01f368589af6"
      },
      "execution_count": 6,
      "outputs": [
        {
          "output_type": "execute_result",
          "data": {
            "text/plain": [
              "array([ True, False, False, False,  True, False, False])"
            ]
          },
          "metadata": {},
          "execution_count": 6
        }
      ]
    },
    {
      "cell_type": "code",
      "source": [
        "data[names == 'Hasan']"
      ],
      "metadata": {
        "colab": {
          "base_uri": "https://localhost:8080/"
        },
        "id": "F1yyOsCMSitz",
        "outputId": "19f82c50-e0e6-4e76-e433-df242e26f08c"
      },
      "execution_count": 7,
      "outputs": [
        {
          "output_type": "execute_result",
          "data": {
            "text/plain": [
              "array([[ 0.15681838, -0.36782417,  0.09474427, -0.13408739],\n",
              "       [-0.00908062,  0.20208639, -0.01026422,  1.02360458]])"
            ]
          },
          "metadata": {},
          "execution_count": 7
        }
      ]
    },
    {
      "cell_type": "code",
      "source": [
        "data[names == 'Elyor']"
      ],
      "metadata": {
        "colab": {
          "base_uri": "https://localhost:8080/"
        },
        "id": "B73YCRkeSo0k",
        "outputId": "e3791b12-0d32-48b9-e005-2d852d974392"
      },
      "execution_count": 9,
      "outputs": [
        {
          "output_type": "execute_result",
          "data": {
            "text/plain": [
              "array([[ 0.632871  , -0.6483917 ,  0.92984244, -2.85619274],\n",
              "       [-1.29562986,  0.32078675,  1.10612366,  0.3697646 ]])"
            ]
          },
          "metadata": {},
          "execution_count": 9
        }
      ]
    },
    {
      "cell_type": "code",
      "source": [
        "data[names == 'Husan']"
      ],
      "metadata": {
        "colab": {
          "base_uri": "https://localhost:8080/"
        },
        "id": "69PnitvpS46z",
        "outputId": "f3c3ca18-725b-4d3d-8c19-ecf290c3fc4d"
      },
      "execution_count": 10,
      "outputs": [
        {
          "output_type": "execute_result",
          "data": {
            "text/plain": [
              "array([[ 0.62756211, -0.0048783 ,  1.65985513,  0.08731625]])"
            ]
          },
          "metadata": {},
          "execution_count": 10
        }
      ]
    },
    {
      "cell_type": "code",
      "source": [
        "data[names != 'Elyor'] # != -teng bo`lmasa"
      ],
      "metadata": {
        "colab": {
          "base_uri": "https://localhost:8080/"
        },
        "id": "x2tjeMWkTCfE",
        "outputId": "1fe414af-caa0-4462-ad87-403835aeb5e8"
      },
      "execution_count": 11,
      "outputs": [
        {
          "output_type": "execute_result",
          "data": {
            "text/plain": [
              "array([[ 0.15681838, -0.36782417,  0.09474427, -0.13408739],\n",
              "       [ 0.62756211, -0.0048783 ,  1.65985513,  0.08731625],\n",
              "       [ 0.07688918, -1.32467422, -0.23178167, -0.02319271],\n",
              "       [-0.00908062,  0.20208639, -0.01026422,  1.02360458],\n",
              "       [ 0.52287401, -0.75676249,  2.00997238, -0.2449475 ]])"
            ]
          },
          "metadata": {},
          "execution_count": 11
        }
      ]
    },
    {
      "cell_type": "code",
      "source": [
        "data[~(names == 'Elyor')] # ~ teng bo`lmasa"
      ],
      "metadata": {
        "colab": {
          "base_uri": "https://localhost:8080/"
        },
        "id": "JM1ow1S_TOvV",
        "outputId": "177750c8-01dc-498a-b2fb-74becb7e2668"
      },
      "execution_count": 12,
      "outputs": [
        {
          "output_type": "execute_result",
          "data": {
            "text/plain": [
              "array([[ 0.15681838, -0.36782417,  0.09474427, -0.13408739],\n",
              "       [ 0.62756211, -0.0048783 ,  1.65985513,  0.08731625],\n",
              "       [ 0.07688918, -1.32467422, -0.23178167, -0.02319271],\n",
              "       [-0.00908062,  0.20208639, -0.01026422,  1.02360458],\n",
              "       [ 0.52287401, -0.75676249,  2.00997238, -0.2449475 ]])"
            ]
          },
          "metadata": {},
          "execution_count": 12
        }
      ]
    },
    {
      "cell_type": "code",
      "source": [
        "egzaklar = (names == 'Hasan') | (names == 'Husan')  # | (or) yoki\n",
        "egzaklar"
      ],
      "metadata": {
        "colab": {
          "base_uri": "https://localhost:8080/"
        },
        "id": "uo-gAtmUTVde",
        "outputId": "502388e6-c382-4430-8ce0-aec90811cc11"
      },
      "execution_count": 13,
      "outputs": [
        {
          "output_type": "execute_result",
          "data": {
            "text/plain": [
              "array([ True,  True, False, False,  True, False, False])"
            ]
          },
          "metadata": {},
          "execution_count": 13
        }
      ]
    },
    {
      "cell_type": "code",
      "source": [
        "data[egzaklar]"
      ],
      "metadata": {
        "colab": {
          "base_uri": "https://localhost:8080/"
        },
        "id": "s650WEE9UKud",
        "outputId": "f3d684dd-5fab-4da7-c1ee-9334aefc34dc"
      },
      "execution_count": 14,
      "outputs": [
        {
          "output_type": "execute_result",
          "data": {
            "text/plain": [
              "array([[ 0.15681838, -0.36782417,  0.09474427, -0.13408739],\n",
              "       [ 0.62756211, -0.0048783 ,  1.65985513,  0.08731625],\n",
              "       [-0.00908062,  0.20208639, -0.01026422,  1.02360458]])"
            ]
          },
          "metadata": {},
          "execution_count": 14
        }
      ]
    },
    {
      "cell_type": "code",
      "source": [
        "data[data<0]"
      ],
      "metadata": {
        "colab": {
          "base_uri": "https://localhost:8080/"
        },
        "id": "MutJWA2cUOzu",
        "outputId": "e0ea4c62-b17e-4e7a-8fda-20b058e7fc85"
      },
      "execution_count": 15,
      "outputs": [
        {
          "output_type": "execute_result",
          "data": {
            "text/plain": [
              "array([-0.36782417, -0.13408739, -0.0048783 , -1.32467422, -0.23178167,\n",
              "       -0.02319271, -0.6483917 , -2.85619274, -0.00908062, -0.01026422,\n",
              "       -0.75676249, -0.2449475 , -1.29562986])"
            ]
          },
          "metadata": {},
          "execution_count": 15
        }
      ]
    },
    {
      "cell_type": "code",
      "source": [
        "data[:3]"
      ],
      "metadata": {
        "colab": {
          "base_uri": "https://localhost:8080/"
        },
        "id": "ktJJAoxXUbBm",
        "outputId": "2406390e-d603-42f2-8985-569f501ea1bf"
      },
      "execution_count": 21,
      "outputs": [
        {
          "output_type": "execute_result",
          "data": {
            "text/plain": [
              "array([[ 0.15681838, -0.36782417,  0.09474427, -0.13408739],\n",
              "       [ 0.62756211, -0.0048783 ,  1.65985513,  0.08731625],\n",
              "       [ 0.07688918, -1.32467422, -0.23178167, -0.02319271]])"
            ]
          },
          "metadata": {},
          "execution_count": 21
        }
      ]
    },
    {
      "cell_type": "code",
      "source": [],
      "metadata": {
        "id": "SITLGwZSU6in"
      },
      "execution_count": null,
      "outputs": []
    }
  ]
}